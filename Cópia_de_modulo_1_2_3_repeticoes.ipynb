{
  "cells": [
    {
      "cell_type": "markdown",
      "metadata": {
        "id": "view-in-github",
        "colab_type": "text"
      },
      "source": [
        "<a href=\"https://colab.research.google.com/github/rasrbk/dio-desafio-github-primeiro-repositorio/blob/main/C%C3%B3pia_de_modulo_1_2_3_repeticoes.ipynb\" target=\"_parent\"><img src=\"https://colab.research.google.com/assets/colab-badge.svg\" alt=\"Open In Colab\"/></a>"
      ]
    },
    {
      "cell_type": "markdown",
      "metadata": {
        "id": "wm27iHwyU469"
      },
      "source": [
        "<img src=\"https://github.com/rasrbk/o-py-o/blob/master/imagens/4.png?raw=1\">\n",
        "\n",
        "## Revisando o conteúdo da semana!"
      ]
    },
    {
      "cell_type": "markdown",
      "metadata": {
        "id": "FkSW62heU47C"
      },
      "source": [
        "1) Faça um programa que leia um nome de usuário e a sua senha e não aceite a senha igual ao nome do usuário, mostrando uma mensagem de erro e voltando a pedir as informações."
      ]
    },
    {
      "cell_type": "code",
      "execution_count": 2,
      "metadata": {
        "id": "SFnoLpKaU47D",
        "outputId": "d042a605-4913-4b2b-c61e-b6aca646fa74",
        "colab": {
          "base_uri": "https://localhost:8080/",
          "height": 396
        }
      },
      "outputs": [
        {
          "output_type": "error",
          "ename": "KeyboardInterrupt",
          "evalue": "ignored",
          "traceback": [
            "\u001b[0;31m---------------------------------------------------------------------------\u001b[0m",
            "\u001b[0;31mKeyboardInterrupt\u001b[0m                         Traceback (most recent call last)",
            "\u001b[0;32m<ipython-input-2-9ba74e20f7f7>\u001b[0m in \u001b[0;36m<module>\u001b[0;34m\u001b[0m\n\u001b[0;32m----> 1\u001b[0;31m \u001b[0mnome\u001b[0m \u001b[0;34m=\u001b[0m \u001b[0minput\u001b[0m\u001b[0;34m(\u001b[0m\u001b[0;34m\"Insira seu nome: \"\u001b[0m\u001b[0;34m)\u001b[0m\u001b[0;34m\u001b[0m\u001b[0;34m\u001b[0m\u001b[0m\n\u001b[0m\u001b[1;32m      2\u001b[0m \u001b[0msenha\u001b[0m \u001b[0;34m=\u001b[0m \u001b[0minput\u001b[0m\u001b[0;34m(\u001b[0m\u001b[0;34m\"Insira uma senha: \"\u001b[0m\u001b[0;34m)\u001b[0m\u001b[0;34m\u001b[0m\u001b[0;34m\u001b[0m\u001b[0m\n\u001b[1;32m      3\u001b[0m \u001b[0;32mwhile\u001b[0m \u001b[0msenha\u001b[0m \u001b[0;34m==\u001b[0m \u001b[0mnome\u001b[0m\u001b[0;34m:\u001b[0m\u001b[0;34m\u001b[0m\u001b[0;34m\u001b[0m\u001b[0m\n\u001b[1;32m      4\u001b[0m   \u001b[0mprint\u001b[0m\u001b[0;34m(\u001b[0m\u001b[0;34m\"Sua senha deve ser diferente do seu nome \"\u001b[0m\u001b[0;34m)\u001b[0m\u001b[0;34m\u001b[0m\u001b[0;34m\u001b[0m\u001b[0m\n\u001b[1;32m      5\u001b[0m   \u001b[0mprint\u001b[0m\u001b[0;34m(\u001b[0m\u001b[0minput\u001b[0m\u001b[0;34m(\u001b[0m\u001b[0;34m\"Por favor, insira nova senha:\"\u001b[0m\u001b[0;34m)\u001b[0m\u001b[0;34m)\u001b[0m\u001b[0;34m\u001b[0m\u001b[0;34m\u001b[0m\u001b[0m\n",
            "\u001b[0;32m/usr/local/lib/python3.7/dist-packages/ipykernel/kernelbase.py\u001b[0m in \u001b[0;36mraw_input\u001b[0;34m(self, prompt)\u001b[0m\n\u001b[1;32m    861\u001b[0m             \u001b[0mself\u001b[0m\u001b[0;34m.\u001b[0m\u001b[0m_parent_ident\u001b[0m\u001b[0;34m,\u001b[0m\u001b[0;34m\u001b[0m\u001b[0;34m\u001b[0m\u001b[0m\n\u001b[1;32m    862\u001b[0m             \u001b[0mself\u001b[0m\u001b[0;34m.\u001b[0m\u001b[0m_parent_header\u001b[0m\u001b[0;34m,\u001b[0m\u001b[0;34m\u001b[0m\u001b[0;34m\u001b[0m\u001b[0m\n\u001b[0;32m--> 863\u001b[0;31m             \u001b[0mpassword\u001b[0m\u001b[0;34m=\u001b[0m\u001b[0;32mFalse\u001b[0m\u001b[0;34m,\u001b[0m\u001b[0;34m\u001b[0m\u001b[0;34m\u001b[0m\u001b[0m\n\u001b[0m\u001b[1;32m    864\u001b[0m         )\n\u001b[1;32m    865\u001b[0m \u001b[0;34m\u001b[0m\u001b[0m\n",
            "\u001b[0;32m/usr/local/lib/python3.7/dist-packages/ipykernel/kernelbase.py\u001b[0m in \u001b[0;36m_input_request\u001b[0;34m(self, prompt, ident, parent, password)\u001b[0m\n\u001b[1;32m    902\u001b[0m             \u001b[0;32mexcept\u001b[0m \u001b[0mKeyboardInterrupt\u001b[0m\u001b[0;34m:\u001b[0m\u001b[0;34m\u001b[0m\u001b[0;34m\u001b[0m\u001b[0m\n\u001b[1;32m    903\u001b[0m                 \u001b[0;31m# re-raise KeyboardInterrupt, to truncate traceback\u001b[0m\u001b[0;34m\u001b[0m\u001b[0;34m\u001b[0m\u001b[0;34m\u001b[0m\u001b[0m\n\u001b[0;32m--> 904\u001b[0;31m                 \u001b[0;32mraise\u001b[0m \u001b[0mKeyboardInterrupt\u001b[0m\u001b[0;34m(\u001b[0m\u001b[0;34m\"Interrupted by user\"\u001b[0m\u001b[0;34m)\u001b[0m \u001b[0;32mfrom\u001b[0m \u001b[0;32mNone\u001b[0m\u001b[0;34m\u001b[0m\u001b[0;34m\u001b[0m\u001b[0m\n\u001b[0m\u001b[1;32m    905\u001b[0m             \u001b[0;32mexcept\u001b[0m \u001b[0mException\u001b[0m \u001b[0;32mas\u001b[0m \u001b[0me\u001b[0m\u001b[0;34m:\u001b[0m\u001b[0;34m\u001b[0m\u001b[0;34m\u001b[0m\u001b[0m\n\u001b[1;32m    906\u001b[0m                 \u001b[0mself\u001b[0m\u001b[0;34m.\u001b[0m\u001b[0mlog\u001b[0m\u001b[0;34m.\u001b[0m\u001b[0mwarning\u001b[0m\u001b[0;34m(\u001b[0m\u001b[0;34m\"Invalid Message:\"\u001b[0m\u001b[0;34m,\u001b[0m \u001b[0mexc_info\u001b[0m\u001b[0;34m=\u001b[0m\u001b[0;32mTrue\u001b[0m\u001b[0;34m)\u001b[0m\u001b[0;34m\u001b[0m\u001b[0;34m\u001b[0m\u001b[0m\n",
            "\u001b[0;31mKeyboardInterrupt\u001b[0m: Interrupted by user"
          ]
        }
      ],
      "source": [
        "nome = input(\"Insira seu nome: \")\n",
        "senha = input(\"Insira uma senha: \")\n",
        "while senha == nome:\n",
        "  print(\"Sua senha deve ser diferente do seu nome \")\n",
        "  print(input(\"Por favor, insira nova senha:\"))\n",
        "else:\n",
        "  print(\"Senha salva\")"
      ]
    },
    {
      "cell_type": "markdown",
      "metadata": {
        "id": "q-7M4MVJU47E"
      },
      "source": [
        "2) Há um método disponível nas variáveis do tipo **string** chamado `count`. Ele recebe uma string como parâmetro e tem como objetivo contar quantas vezes esse parâmetro aparece na string original onde ele está sendo chamado. Ou seja, se eu quiser contar quantas vezes a letra **\"a\"** aparece em **\"banana\"** eu posso fazer algo como:\n",
        "```python\n",
        "fruta = 'banana'\n",
        "fruta.count(a)\n",
        "```\n",
        "\n",
        "E isso vai me dar o resultado 3. Não acredita? Testa ai! "
      ]
    },
    {
      "cell_type": "code",
      "execution_count": null,
      "metadata": {
        "id": "Lm5fyBK6U47E",
        "outputId": "848e2cb2-f4cf-459d-9eb8-91a9eaa2f6d1",
        "colab": {
          "base_uri": "https://localhost:8080/"
        }
      },
      "outputs": [
        {
          "output_type": "execute_result",
          "data": {
            "text/plain": [
              "3"
            ]
          },
          "metadata": {},
          "execution_count": 2
        }
      ],
      "source": [
        "fruta = 'banana'\n",
        "fruta.count('a')"
      ]
    },
    {
      "cell_type": "markdown",
      "metadata": {
        "id": "7gnGq0tQU47F"
      },
      "source": [
        "Pois agora que sabemos disso, é chegado o momento de descobrimos quantos **\"e's\"** existem em [Prefixo de Verão ](https://www.youtube.com/watch?v=CObCy8qduuo&ab_channel=FunkeirodaZonaSul) música da maravilhosa Banda Mel. \n",
        "\n",
        "Eu vou deixar a string já montada aqui e você faz o resto beleza?!"
      ]
    },
    {
      "cell_type": "code",
      "execution_count": null,
      "metadata": {
        "id": "bowpO0OEU47G",
        "outputId": "60ad2327-6f56-4d64-b676-660c8bfd0eeb",
        "colab": {
          "base_uri": "https://localhost:8080/"
        }
      },
      "outputs": [
        {
          "output_type": "execute_result",
          "data": {
            "text/plain": [
              "40"
            ]
          },
          "metadata": {},
          "execution_count": 4
        }
      ],
      "source": [
        "musica = 'Ae, ae, ae, ae \\\n",
        "Ei, ei, ei, ei \\\n",
        "Oô, oô, oô, oô, oô, oô, o \\\n",
        " \\\n",
        "Quando você chegar \\\n",
        "Quando você chegar \\\n",
        "Quando você chegar \\\n",
        "Numa nova estação \\\n",
        "Te espero no verão \\\n",
        " \\\n",
        "Salve, salvador \\\n",
        "Me bato, me quebro tudo por amor \\\n",
        "Eu sou do pelô \\\n",
        "O negro é raça é fruto do amor \\\n",
        "Salve, salvador \\\n",
        "Me bato, me quebro tudo por amor \\\n",
        "Eu sou do pelô \\\n",
        " \\\n",
        "Ae, ae, ae, ae \\\n",
        "Ei, ei, ei, ei \\\n",
        "Oô, oô, oô, oô, oô, oô, o \\\n",
        " \\\n",
        "Ae, ae, ae, ae \\\n",
        "Ei, ei, ei, ei \\\n",
        "Oô, oô, o' \n",
        "musica.count('e' or 's')"
      ]
    },
    {
      "cell_type": "markdown",
      "metadata": {
        "id": "9JxU1qzDU47H"
      },
      "source": [
        "> ##### Você tem alguma ideia de como fazer essa contagem sem usar o count()?"
      ]
    },
    {
      "cell_type": "markdown",
      "source": [
        "não faço ideia. achei que poderia usar o for pra percorrer a string, mas não sei como fazer isso. o 'for' conta todos os 'e' na musica e me mostra. o problema agora é conta somar todos eles e me retornar. e acho que esse jeito é muito trabalho pra algo que o count já dá conta. "
      ],
      "metadata": {
        "id": "A-PSgDYp_8GO"
      }
    },
    {
      "cell_type": "markdown",
      "metadata": {
        "id": "lPt9Beb3U47I"
      },
      "source": [
        "3) Faça um programa que leia 5 números e informe o maior número."
      ]
    },
    {
      "cell_type": "code",
      "execution_count": 85,
      "metadata": {
        "id": "B5th5RkOU47J",
        "outputId": "cfcd6f41-624a-4aff-b6d8-78e1cee224fd",
        "colab": {
          "base_uri": "https://localhost:8080/"
        }
      },
      "outputs": [
        {
          "output_type": "stream",
          "name": "stdout",
          "text": [
            "Insira n1: 5\n",
            "Insira n2: 9\n",
            "Insira n3: 8\n",
            "Insira n4: 6\n",
            "Insira n5: 4\n",
            "9\n"
          ]
        }
      ],
      "source": [
        "m = 0 #é uma variável 'vazia', que usa pra colocar o 'maior' no teste atual\n",
        "n1 = int(input(\"Insira n1: \"))\n",
        "n2 = int(input(\"Insira n2: \"))\n",
        "n3 = int(input(\"Insira n3: \"))\n",
        "n4 = int(input(\"Insira n4: \"))\n",
        "n5 = int(input(\"Insira n5: \"))\n",
        "lista = [n1,n2,n3,n4,n5] #lista de valores possíveis\n",
        "for x in lista: #'para' x (x é uma variável do proprio for que serve para colocar cada valor (ns) da lista em sequencia) \n",
        "  if x > m: # testa 'se' x (a 1ª variavel do for, q tb é a da 1ª posicao na 'lista') é maior que o valor colocado na variavel 'm'\n",
        "    m = x #se x estiver mesmo maior q m, então o valor de m será substituido pelo de x, para voltar e textar com o próximo item\n",
        "#obs: o valor de m só é atualizado pelo de x se x for de fato maior que m; caso n seja, m não é substituido por x e sai do lado de repetição\n",
        "print(m) #retorna o último valor de m q atendia a condicional x > m\n"
      ]
    },
    {
      "cell_type": "markdown",
      "source": [
        "3.1) Some todos os elementos de uma lista e imprima o resultado"
      ],
      "metadata": {
        "id": "-yQNwCpFW5Il"
      }
    },
    {
      "cell_type": "code",
      "source": [
        "#Some todos os elementos de uma lista e imprima o resultado\n",
        "n1 = int(input(\"Insira n1: \"))\n",
        "n2 = int(input(\"Insira n2: \"))\n",
        "n3 = int(input(\"Insira n3: \"))\n",
        "m = 0 #esse 0 é um valor inicial pra m\n",
        "lista = [n1,n2,n3] #arrumei as coisas numa lista\n",
        "for x in lista:\n",
        "  m = m + x #a variavel m começa zero mas é somada com o primeiro valor da lista e vira m + x\n",
        "  #no segundo teste a variavel m (que agora é m+x) vai receber mais o outro valor de x, que é n2\n",
        "  #isso se repete até acabar de ler a lista toda\n",
        "print(m) #retorna o ultimo valor que m assumiu quando acabou a lista"
      ],
      "metadata": {
        "colab": {
          "base_uri": "https://localhost:8080/"
        },
        "id": "sC0hZlt0W8te",
        "outputId": "3393584a-898f-45aa-d518-fccfcefa343d"
      },
      "execution_count": 157,
      "outputs": [
        {
          "output_type": "stream",
          "name": "stdout",
          "text": [
            "Insira n1: 5\n",
            "Insira n2: 3\n",
            "Insira n3: 1\n",
            "9\n"
          ]
        }
      ]
    },
    {
      "cell_type": "markdown",
      "source": [
        "Se quiser um desafio, some apenas os números maiores que 5"
      ],
      "metadata": {
        "id": "Dlb6JseCW-jM"
      }
    },
    {
      "cell_type": "code",
      "source": [
        "n1 = int(input(\"Insira n1: \"))\n",
        "n2 = int(input(\"Insira n2: \"))\n",
        "n3 = int(input(\"Insira n3: \"))\n",
        "lista = [n1,n2,n3]\n",
        "m = 0\n",
        "for x in lista:\n",
        "  if x > 5:\n",
        "    m = m + x\n",
        "print(m)"
      ],
      "metadata": {
        "colab": {
          "base_uri": "https://localhost:8080/"
        },
        "id": "qDRMZCQsXFik",
        "outputId": "a9108a19-a696-4be2-97b6-6af0d26e8713"
      },
      "execution_count": 158,
      "outputs": [
        {
          "output_type": "stream",
          "name": "stdout",
          "text": [
            "Insira n1: 8\n",
            "Insira n2: 6\n",
            "Insira n3: 3\n",
            "14\n"
          ]
        }
      ]
    },
    {
      "cell_type": "markdown",
      "metadata": {
        "id": "BMGIbWu0U47J"
      },
      "source": [
        "4) Faça um programa que receba dois números inteiros e gere os números inteiros que estão no intervalo compreendido por eles.\n"
      ]
    },
    {
      "cell_type": "markdown",
      "source": [],
      "metadata": {
        "id": "rpLCmad7W71d"
      }
    },
    {
      "cell_type": "code",
      "execution_count": 292,
      "metadata": {
        "id": "fWSp6UYlU47J",
        "colab": {
          "base_uri": "https://localhost:8080/"
        },
        "outputId": "1354baec-912a-4e8c-d5f8-312120d6222f"
      },
      "outputs": [
        {
          "output_type": "stream",
          "name": "stdout",
          "text": [
            "Insira n1: 1\n",
            "Insira n2: 10\n",
            "2\n",
            "3\n",
            "4\n",
            "5\n",
            "6\n",
            "7\n",
            "8\n",
            "9\n"
          ]
        }
      ],
      "source": [
        "n1 = int(input(\"Insira n1: \"))\n",
        "n2 = int(input(\"Insira n2: \"))\n",
        "lista = [n1, n2]\n",
        "contador = 0\n",
        "for x in lista:\n",
        "  contador = x\n",
        "  while contador < (n2-1): #é n2-1 pq quero o numero imediatamente anterior ao n2 e não o n2 em si\n",
        "    contador = contador+1\n",
        "    print(contador)"
      ]
    },
    {
      "cell_type": "markdown",
      "metadata": {
        "id": "Kne1t6ezU47K"
      },
      "source": [
        "5) Altere o programa anterior para mostrar no final a soma dos números."
      ]
    },
    {
      "cell_type": "code",
      "execution_count": 326,
      "metadata": {
        "id": "ZK-fkiASU47K",
        "colab": {
          "base_uri": "https://localhost:8080/",
          "height": 263
        },
        "outputId": "bac7d870-858a-4636-8d3e-71389e641880"
      },
      "outputs": [
        {
          "name": "stdout",
          "output_type": "stream",
          "text": [
            "Insira n1: 1\n",
            "Insira n2: 5\n"
          ]
        },
        {
          "output_type": "error",
          "ename": "KeyboardInterrupt",
          "evalue": "ignored",
          "traceback": [
            "\u001b[0;31m---------------------------------------------------------------------------\u001b[0m",
            "\u001b[0;31mKeyboardInterrupt\u001b[0m                         Traceback (most recent call last)",
            "\u001b[0;32m<ipython-input-326-de0927109260>\u001b[0m in \u001b[0;36m<module>\u001b[0;34m\u001b[0m\n\u001b[1;32m      6\u001b[0m   \u001b[0mcontador\u001b[0m \u001b[0;34m=\u001b[0m \u001b[0mx\u001b[0m\u001b[0;34m\u001b[0m\u001b[0;34m\u001b[0m\u001b[0m\n\u001b[1;32m      7\u001b[0m   \u001b[0;32mwhile\u001b[0m \u001b[0mcontador\u001b[0m \u001b[0;34m<\u001b[0m \u001b[0mn2\u001b[0m\u001b[0;34m:\u001b[0m\u001b[0;34m\u001b[0m\u001b[0;34m\u001b[0m\u001b[0m\n\u001b[0;32m----> 8\u001b[0;31m     \u001b[0mcontador\u001b[0m \u001b[0;34m=\u001b[0m \u001b[0mcontador\u001b[0m\u001b[0;34m\u001b[0m\u001b[0;34m\u001b[0m\u001b[0m\n\u001b[0m\u001b[1;32m      9\u001b[0m \u001b[0mprint\u001b[0m\u001b[0;34m(\u001b[0m\u001b[0mcontador\u001b[0m\u001b[0;34m)\u001b[0m\u001b[0;34m\u001b[0m\u001b[0;34m\u001b[0m\u001b[0m\n",
            "\u001b[0;31mKeyboardInterrupt\u001b[0m: "
          ]
        }
      ],
      "source": [
        "n1 = int(input(\"Insira n1: \"))\n",
        "n2 = int(input(\"Insira n2: \"))\n",
        "lista = [n1, n2]\n",
        "contador = 0\n",
        "for x in lista:\n",
        "  contador = x\n",
        "  while contador < n2:\n",
        "    contador = contador\n",
        "print(contador)\n"
      ]
    },
    {
      "cell_type": "markdown",
      "metadata": {
        "id": "Z977FXtNU47K"
      },
      "source": [
        "6) Faça um programa que exiba as tabuadas de 1 até 10 no formato: \"2 x 3 = 6\", (utilize dois comandos for)"
      ]
    },
    {
      "cell_type": "code",
      "execution_count": 330,
      "metadata": {
        "id": "DmT6vxjzU47L",
        "colab": {
          "base_uri": "https://localhost:8080/"
        },
        "outputId": "febf8eb5-a655-421a-8969-f7ee468a4b1f"
      },
      "outputs": [
        {
          "output_type": "stream",
          "name": "stdout",
          "text": [
            "Insira n1: 1\n",
            "Insira n2: 5\n",
            "1x2 = 2\n",
            "1x3 = 3\n",
            "1x4 = 4\n",
            "1x5 = 5\n"
          ]
        }
      ],
      "source": [
        "n1 = int(input(\"Insira n1: \"))\n",
        "n2 = int(input(\"Insira n2: \"))\n",
        "lista = [n1, n2]\n",
        "contador = 0\n",
        "for x in lista:\n",
        "  contador = x\n",
        "  while contador < (n2): \n",
        "    contador = contador+1\n",
        "    print(str(n1) + \"x\" + str(contador) + \" = \" + str(n1*(contador)))"
      ]
    },
    {
      "cell_type": "markdown",
      "metadata": {
        "id": "rmfq5vB5U47L"
      },
      "source": [
        "---\n",
        "\n",
        "## Quais são as outras formas de praticar esses conceitos?\n",
        "\n",
        "<img src=\"https://media.giphy.com/media/3gPLPJzFi8a3vhLTtw/giphy.gif\" align=\"left\">"
      ]
    },
    {
      "cell_type": "markdown",
      "metadata": {
        "id": "vf4udm-1U47L"
      },
      "source": [
        "<Adicionar atividade de sua preferência para aplicação dos conceitos>"
      ]
    }
  ],
  "metadata": {
    "kernelspec": {
      "display_name": "Python 3",
      "language": "python",
      "name": "python3"
    },
    "language_info": {
      "codemirror_mode": {
        "name": "ipython",
        "version": 3
      },
      "file_extension": ".py",
      "mimetype": "text/x-python",
      "name": "python",
      "nbconvert_exporter": "python",
      "pygments_lexer": "ipython3",
      "version": "3.8.5"
    },
    "colab": {
      "provenance": [],
      "collapsed_sections": [],
      "include_colab_link": true
    }
  },
  "nbformat": 4,
  "nbformat_minor": 0
}